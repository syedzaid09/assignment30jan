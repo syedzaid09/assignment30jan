{
 "cells": [
  {
   "cell_type": "markdown",
   "id": "2f07cda4-4a0e-40d0-a231-35c0e24e715e",
   "metadata": {},
   "source": [
    "Qus1.write a program to accept percentage from the user and display the grade according to the following criteria:\n"
   ]
  },
  {
   "cell_type": "code",
   "execution_count": 4,
   "id": "880ad627-cd67-4a3c-9e21-1e8fb9bc5a91",
   "metadata": {},
   "outputs": [
    {
     "name": "stdin",
     "output_type": "stream",
     "text": [
      "enter your marks: 45\n"
     ]
    },
    {
     "name": "stdout",
     "output_type": "stream",
     "text": [
      "Grade D\n"
     ]
    }
   ],
   "source": [
    "#solution1 \n",
    "marks=int(input(\"enter your marks:\"))\n",
    "if marks>90:\n",
    "          print(\"Grade A\")\n",
    "elif marks>80 and marks<=90:\n",
    "          print(\"Grade B\")\n",
    "elif marks>=60 and marks<=80:\n",
    "          print(\"Grade C\")\n",
    "else:\n",
    "          print(\"Grade D\")\n",
    "          "
   ]
  },
  {
   "cell_type": "markdown",
   "id": "699f26cb-c1ce-44ef-9076-8e0a23300a50",
   "metadata": {},
   "source": [
    "Qus2.write a program to accept the cost price of a bike and display the road tax to be paid according to the following criteria"
   ]
  },
  {
   "cell_type": "code",
   "execution_count": 6,
   "id": "0404c1b7-030c-464e-b75d-fa9b8444aa44",
   "metadata": {},
   "outputs": [
    {
     "name": "stdin",
     "output_type": "stream",
     "text": [
      "enter your cost price: 45000\n"
     ]
    },
    {
     "name": "stdout",
     "output_type": "stream",
     "text": [
      "5%\n"
     ]
    }
   ],
   "source": [
    "#solution2\n",
    "costprice=int(input(\"enter your cost price:\"))\n",
    "if costprice>100000:\n",
    "    print(\"15%\")\n",
    "elif costprice>50000 and costprice<=100000:\n",
    "    print(\"10%\")\n",
    "elif costprice<=50000:\n",
    "    print(\"5%\")"
   ]
  },
  {
   "cell_type": "markdown",
   "id": "2fc3a5c1-392a-410a-a5c1-6135743f032a",
   "metadata": {},
   "source": [
    "Qus3.accept any city from the user and display monuments of that city"
   ]
  },
  {
   "cell_type": "code",
   "execution_count": 1,
   "id": "511dbece-7630-4b99-96de-278457377b22",
   "metadata": {},
   "outputs": [
    {
     "name": "stdin",
     "output_type": "stream",
     "text": [
      "enter your city name: delhi\n"
     ]
    },
    {
     "name": "stdout",
     "output_type": "stream",
     "text": [
      "Red Fort\n"
     ]
    }
   ],
   "source": [
    "#solution3\n",
    "city=input(\"enter your city name:\")\n",
    "if city == \"delhi\":\n",
    "    print(\"Red Fort\")\n",
    "elif city ==\"agra\":\n",
    "    print(\"Taj Mahal\")\n",
    "elif city == \"jaipur\":\n",
    "    print(\"Jal Mahal\")\n"
   ]
  },
  {
   "cell_type": "markdown",
   "id": "e49a0a4c-61d1-40c0-bfbb-1fcd48311de5",
   "metadata": {},
   "source": [
    "Qus4.check how many times a given number can be divided by 3 before it is less than or equal to 10"
   ]
  },
  {
   "cell_type": "code",
   "execution_count": 14,
   "id": "fc2c35f0-065d-41fc-b330-e0724ef2ef01",
   "metadata": {},
   "outputs": [
    {
     "name": "stdout",
     "output_type": "stream",
     "text": [
      "Yes\n"
     ]
    }
   ],
   "source": [
    "#solution4\n",
    "n=769452\n",
    "if int(n)%3==0:\n",
    "  print(\"Yes\")\n",
    "else:\n",
    "  print(\"No\")        "
   ]
  },
  {
   "cell_type": "markdown",
   "id": "c967d681-1290-48b5-a190-6a52964717bb",
   "metadata": {},
   "source": [
    "Qus5.why and when to use while loop in python give a detailed description with example"
   ]
  },
  {
   "cell_type": "markdown",
   "id": "962e1ee9-2b0d-4811-884e-fe7c00d781ca",
   "metadata": {},
   "source": [
    "Solution5:Python While Loop is used to execute a block of statements repeatedly until a given condition is satisfied. And when the condition becomes false, the line immediately after the loop in the program is executed.\n",
    "While loop falls under the category of indefinite iteration. Indefinite iteration means that the number of times the loop is executed isn’t specified explicitly in advance. \n"
   ]
  },
  {
   "cell_type": "code",
   "execution_count": null,
   "id": "42f60e17-2ed9-4632-a20f-3be8f4ff848a",
   "metadata": {},
   "outputs": [],
   "source": [
    "#example"
   ]
  },
  {
   "cell_type": "code",
   "execution_count": 3,
   "id": "5494699a-03aa-4940-9e6b-c5253f718c1c",
   "metadata": {},
   "outputs": [
    {
     "name": "stdin",
     "output_type": "stream",
     "text": [
      "enter your number 4\n"
     ]
    },
    {
     "data": {
      "text/plain": [
       "24"
      ]
     },
     "execution_count": 3,
     "metadata": {},
     "output_type": "execute_result"
    }
   ],
   "source": [
    "number=int(input(\"enter your number\"))\n",
    "factorial=1\n",
    "while number>0:\n",
    "    factorial=factorial*number\n",
    "    number=number-1\n",
    "factorial"
   ]
  },
  {
   "cell_type": "markdown",
   "id": "dc0477d0-36ee-45f8-81ff-7460db0a5d4e",
   "metadata": {},
   "source": [
    "Qus6.Use nested while loop to print 3 different pattern"
   ]
  },
  {
   "cell_type": "code",
   "execution_count": 5,
   "id": "aed2a249-ee3b-49a9-bf76-19bae382ca61",
   "metadata": {},
   "outputs": [
    {
     "name": "stdin",
     "output_type": "stream",
     "text": [
      "enter your no.: 3\n"
     ]
    },
    {
     "name": "stdout",
     "output_type": "stream",
     "text": [
      "1 \n",
      "1 2 \n",
      "1 2 3 \n"
     ]
    }
   ],
   "source": [
    "#solution \n",
    "#1\n",
    "n=int(input(\"enter your no.:\"))\n",
    "i=1\n",
    "while i<=n:\n",
    "    j=1\n",
    "    while j<=i:\n",
    "        print(j,end=\" \")\n",
    "        j=j+1\n",
    "    print(\"\")\n",
    "    i=i+1"
   ]
  },
  {
   "cell_type": "code",
   "execution_count": 9,
   "id": "3b0f0f4b-2ee5-4671-bee6-eb2fc66f97d0",
   "metadata": {},
   "outputs": [
    {
     "name": "stdin",
     "output_type": "stream",
     "text": [
      "enter your no.: 3\n"
     ]
    },
    {
     "name": "stdout",
     "output_type": "stream",
     "text": [
      "* \n",
      "* * \n",
      "* * * \n"
     ]
    }
   ],
   "source": [
    "#2\n",
    "n=int(input(\"enter your no.:\"))\n",
    "i=1\n",
    "while i<=n:\n",
    "    j=1\n",
    "    while j<=i:\n",
    "        print(\"*\",end=\" \")\n",
    "        j=j+1\n",
    "    print(\"\")\n",
    "    i=i+1"
   ]
  },
  {
   "cell_type": "code",
   "execution_count": 11,
   "id": "f7394030-9c65-4e99-9b4c-cccc32d77ffd",
   "metadata": {},
   "outputs": [
    {
     "name": "stdin",
     "output_type": "stream",
     "text": [
      "enter your no.: 3\n"
     ]
    },
    {
     "name": "stdout",
     "output_type": "stream",
     "text": [
      "* * * \n",
      "* * \n",
      "* \n"
     ]
    }
   ],
   "source": [
    "#3\n",
    "n=int(input(\"enter your no.:\"))\n",
    "i=1\n",
    "while i<=n:\n",
    "    j=n\n",
    "    while j>=i:\n",
    "        print(\"*\",end=\" \")\n",
    "        j=j-1\n",
    "    print(\"\")\n",
    "    i=i+1"
   ]
  },
  {
   "cell_type": "markdown",
   "id": "6e502037-1396-44d4-be20-f743507269c3",
   "metadata": {},
   "source": [
    "Qus7.Reverse a while loop to display from 10 to 1"
   ]
  },
  {
   "cell_type": "code",
   "execution_count": 12,
   "id": "7aca74f4-cb37-4470-b658-c8fc689a0663",
   "metadata": {},
   "outputs": [
    {
     "name": "stdout",
     "output_type": "stream",
     "text": [
      "10\n",
      "9\n",
      "8\n",
      "7\n",
      "6\n",
      "5\n",
      "4\n",
      "3\n",
      "2\n",
      "1\n"
     ]
    }
   ],
   "source": [
    "#solution7\n",
    "a=10\n",
    "\n",
    "while a>=1:\n",
    "    print(a)\n",
    "    a=a-1"
   ]
  },
  {
   "cell_type": "markdown",
   "id": "9eef4fdb-b125-43f6-8f49-2fd31b9a6f21",
   "metadata": {},
   "source": [
    "Qus8.Reverse a while loop to display from 10 to 1\n",
    "\n"
   ]
  },
  {
   "cell_type": "code",
   "execution_count": 13,
   "id": "58fcd5e4-fff5-49d1-a6e9-ee19766b2296",
   "metadata": {},
   "outputs": [
    {
     "name": "stdout",
     "output_type": "stream",
     "text": [
      "10\n",
      "9\n",
      "8\n",
      "7\n",
      "6\n",
      "5\n",
      "4\n",
      "3\n",
      "2\n",
      "1\n"
     ]
    }
   ],
   "source": [
    "a=10\n",
    "\n",
    "while a>=1:\n",
    "    print(a)\n",
    "    a=a-1"
   ]
  },
  {
   "cell_type": "code",
   "execution_count": null,
   "id": "9afd0620-6eb4-43a4-8d8b-1c30a2d51794",
   "metadata": {},
   "outputs": [],
   "source": []
  }
 ],
 "metadata": {
  "kernelspec": {
   "display_name": "Python 3 (ipykernel)",
   "language": "python",
   "name": "python3"
  },
  "language_info": {
   "codemirror_mode": {
    "name": "ipython",
    "version": 3
   },
   "file_extension": ".py",
   "mimetype": "text/x-python",
   "name": "python",
   "nbconvert_exporter": "python",
   "pygments_lexer": "ipython3",
   "version": "3.10.8"
  }
 },
 "nbformat": 4,
 "nbformat_minor": 5
}
